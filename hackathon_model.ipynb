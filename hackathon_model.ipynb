{
 "cells": [
  {
   "cell_type": "code",
   "execution_count": 461,
   "metadata": {},
   "outputs": [],
   "source": [
    "import os\n",
    "import pandas as pd\n",
    "import numpy as np\n",
    "from sklearn.metrics import classification_report , accuracy_score\n",
    "from sklearn.model_selection import train_test_split as tts\n",
    "from sklearn.model_selection import cross_val_score\n",
    "from sklearn.preprocessing import LabelEncoder , MinMaxScaler, Imputer\n",
    "import matplotlib.pyplot as plt\n",
    "from sklearn.neighbors import KNeighborsClassifier,KNeighborsRegressor\n",
    "from sklearn.metrics import confusion_matrix\n",
    "from sklearn.linear_model import LinearRegression\n",
    "from sklearn.metrics import mean_squared_error\n",
    "from sklearn.linear_model import Lasso\n",
    "from sklearn.linear_model import LogisticRegression\n",
    "from sklearn.metrics import roc_auc_score, roc_curve\n",
    "import seaborn as sns\n",
    "from sklearn.feature_selection import RFE\n",
    "from sklearn.svm import LinearSVC,SVC\n",
    "from sklearn.model_selection import GridSearchCV\n",
    "from sklearn.tree import DecisionTreeClassifier, DecisionTreeRegressor\n",
    "from sklearn.ensemble import RandomForestRegressor\n",
    "from sklearn.ensemble import BaggingClassifier\n",
    "from sklearn.naive_bayes import GaussianNB\n",
    "from sklearn.cluster import KMeans\n",
    "from sklearn.metrics import r2_score"
   ]
  },
  {
   "cell_type": "code",
   "execution_count": 462,
   "metadata": {},
   "outputs": [],
   "source": [
    "#Set path to the folder where the dataset is present\n",
    "os.chdir(\"C:/Users/rusha/Desktop/GA-Hackathon1/\")"
   ]
  },
  {
   "cell_type": "code",
   "execution_count": 429,
   "metadata": {},
   "outputs": [],
   "source": [
    "#Load the dataset\n",
    "dataset_original = pd.read_csv(\"startup_funding.csv\")\n",
    "\n",
    "#Change the column headers to lowercase and impute missing value in the target column(amountinusd) with the median\n",
    "dataset_original.columns = dataset_original.columns.str.lower()\n",
    "dataset_original['amountinusd'] = dataset_original['amountinusd'].str.replace(\",\", \"\").astype(float)\n",
    "imputer = Imputer(missing_values = 'NaN',strategy = 'median', axis = 0)       \n",
    "dataset_original[\"amountinusd\"] = imputer.fit_transform(dataset_original[['amountinusd']])\n",
    "\n"
   ]
  },
  {
   "cell_type": "code",
   "execution_count": 430,
   "metadata": {},
   "outputs": [],
   "source": [
    "#Cleaning the date column\n",
    "dataset_original[\"date\"] = dataset_original['date'].str.replace(\".\",\"/\")\n",
    "dataset_original[\"date\"] = dataset_original['date'].str.replace(\"//\",\"/\")\n",
    "date_split = dataset_original[\"date\"].str.split(\"/\")"
   ]
  },
  {
   "cell_type": "code",
   "execution_count": 431,
   "metadata": {},
   "outputs": [],
   "source": [
    "#Adding a new month column\n",
    "month=[]\n",
    "for row in date_split:\n",
    "    month.append(float(str(float(row[1]))))\n",
    "dataset_original[\"month\"] = pd.Series(month)"
   ]
  },
  {
   "cell_type": "code",
   "execution_count": 432,
   "metadata": {},
   "outputs": [],
   "source": [
    "#Adding a new year column\n",
    "year=[]\n",
    "for row in date_split:\n",
    "    year.append(float(str(float(row[2]))))\n",
    "dataset_original[\"year\"] = pd.Series(year)"
   ]
  },
  {
   "cell_type": "code",
   "execution_count": 433,
   "metadata": {},
   "outputs": [],
   "source": [
    "#Dropping the unwanted columns\n",
    "dataset_original = dataset_original.drop([\"sno\",\"date\",\"startupname\",\"remarks\"],1)\n",
    "dataset_original[\"month\"] = dataset_original[\"month\"].astype(str)\n",
    "dataset_original[\"year\"] = dataset_original[\"month\"].astype(str)"
   ]
  },
  {
   "cell_type": "code",
   "execution_count": 434,
   "metadata": {
    "scrolled": true
   },
   "outputs": [],
   "source": [
    "#Removing the outliers\n",
    "Q1 = dataset_original[\"amountinusd\"].quantile(0.25)\n",
    "Q3 = dataset_original[\"amountinusd\"].quantile(0.75)\n",
    "IQR = Q3 - Q1\n",
    "dataset_original_clean = dataset_original[~((dataset_original[\"amountinusd\"] < (Q1 - 1.5 * IQR)) |(dataset_original[\"amountinusd\"] > (Q3 + 1.5 * IQR)))]"
   ]
  },
  {
   "cell_type": "code",
   "execution_count": 435,
   "metadata": {},
   "outputs": [
    {
     "name": "stderr",
     "output_type": "stream",
     "text": [
      "C:\\Users\\rusha\\Anaconda3\\lib\\site-packages\\ipykernel_launcher.py:4: SettingWithCopyWarning: \n",
      "A value is trying to be set on a copy of a slice from a DataFrame.\n",
      "Try using .loc[row_indexer,col_indexer] = value instead\n",
      "\n",
      "See the caveats in the documentation: http://pandas.pydata.org/pandas-docs/stable/indexing.html#indexing-view-versus-copy\n",
      "  after removing the cwd from sys.path.\n",
      "C:\\Users\\rusha\\Anaconda3\\lib\\site-packages\\ipykernel_launcher.py:7: SettingWithCopyWarning: \n",
      "A value is trying to be set on a copy of a slice from a DataFrame.\n",
      "Try using .loc[row_indexer,col_indexer] = value instead\n",
      "\n",
      "See the caveats in the documentation: http://pandas.pydata.org/pandas-docs/stable/indexing.html#indexing-view-versus-copy\n",
      "  import sys\n"
     ]
    },
    {
     "data": {
      "image/png": "[encoded data removed]",
      "text/plain": [
       "<Figure size 864x432 with 2 Axes>"
      ]
     },
     "metadata": {},
     "output_type": "display_data"
    }
   ],
   "source": [
    "#Log transforming the target variable to remove skewness\n",
    "plt.figure(figsize=(12,6))\n",
    "plt.subplot(221)\n",
    "dataset_original_clean[\"amountinusd\"] = dataset_original_clean[\"amountinusd\"]\n",
    "plt.hist(dataset_original_clean[\"amountinusd\"],bins=10)\n",
    "plt.subplot(222)\n",
    "dataset_original_clean[\"amountinusd\"] = np.sqrt(dataset_original_clean[\"amountinusd\"])\n",
    "plt.hist(dataset_original_clean[\"amountinusd\"],bins=10)\n",
    "plt.show()"
   ]
  },
  {
   "cell_type": "code",
   "execution_count": 436,
   "metadata": {},
   "outputs": [],
   "source": [
    "#dataset_original_clean = dataset_original_clean[(dataset_original_clean[\"citylocation\"].notnull()) | (dataset_original_clean[\"industryvertical\"].notnull()) | (dataset_original_clean[\"subvertical\"].notnull())]\n",
    "#dataset_original_clean[\"citylocation\"].notnull().value_counts()"
   ]
  },
  {
   "cell_type": "code",
   "execution_count": 437,
   "metadata": {},
   "outputs": [
    {
     "name": "stderr",
     "output_type": "stream",
     "text": [
      "C:\\Users\\rusha\\Anaconda3\\lib\\site-packages\\ipykernel_launcher.py:1: SettingWithCopyWarning: \n",
      "A value is trying to be set on a copy of a slice from a DataFrame.\n",
      "Try using .loc[row_indexer,col_indexer] = value instead\n",
      "\n",
      "See the caveats in the documentation: http://pandas.pydata.org/pandas-docs/stable/indexing.html#indexing-view-versus-copy\n",
      "  \"\"\"Entry point for launching an IPython kernel.\n",
      "C:\\Users\\rusha\\Anaconda3\\lib\\site-packages\\ipykernel_launcher.py:2: SettingWithCopyWarning: \n",
      "A value is trying to be set on a copy of a slice from a DataFrame.\n",
      "Try using .loc[row_indexer,col_indexer] = value instead\n",
      "\n",
      "See the caveats in the documentation: http://pandas.pydata.org/pandas-docs/stable/indexing.html#indexing-view-versus-copy\n",
      "  \n",
      "C:\\Users\\rusha\\Anaconda3\\lib\\site-packages\\ipykernel_launcher.py:3: SettingWithCopyWarning: \n",
      "A value is trying to be set on a copy of a slice from a DataFrame.\n",
      "Try using .loc[row_indexer,col_indexer] = value instead\n",
      "\n",
      "See the caveats in the documentation: http://pandas.pydata.org/pandas-docs/stable/indexing.html#indexing-view-versus-copy\n",
      "  This is separate from the ipykernel package so we can avoid doing imports until\n"
     ]
    }
   ],
   "source": [
    "dataset_original_clean[\"citylocation\"] = dataset_original_clean[\"citylocation\"].fillna(value=\"NotSpecified\")\n",
    "dataset_original_clean[\"industryvertical\"] = dataset_original_clean[\"industryvertical\"].fillna(value=\"Others\")\n",
    "dataset_original_clean[\"subvertical\"] = dataset_original_clean[\"subvertical\"].fillna(value=\"NotSpecified\")"
   ]
  },
  {
   "cell_type": "code",
   "execution_count": 438,
   "metadata": {},
   "outputs": [],
   "source": [
    "#Dropping the unkown values\n",
    "dataset_original_clean = dataset_original_clean[dataset_original_clean[\"investmenttype\"].notnull()]"
   ]
  },
  {
   "cell_type": "code",
   "execution_count": 439,
   "metadata": {},
   "outputs": [
    {
     "name": "stdout",
     "output_type": "stream",
     "text": [
      "<class 'pandas.core.frame.DataFrame'>\n",
      "Int64Index: 1964 entries, 0 to 2371\n",
      "Data columns (total 8 columns):\n",
      "industryvertical    1964 non-null object\n",
      "subvertical         1964 non-null object\n",
      "citylocation        1964 non-null object\n",
      "investorsname       1964 non-null object\n",
      "investmenttype      1964 non-null object\n",
      "amountinusd         1964 non-null float64\n",
      "month               1964 non-null object\n",
      "year                1964 non-null object\n",
      "dtypes: float64(1), object(7)\n",
      "memory usage: 138.1+ KB\n"
     ]
    }
   ],
   "source": [
    "dataset_original_clean = dataset_original_clean[dataset_original_clean[\"investorsname\"].notnull()]\n",
    "\n",
    "dataset_original_clean.info()\n",
    "label_encoder = LabelEncoder()\n",
    "dataset_original_clean[\"industryvertical\"] = label_encoder.fit_transform(dataset_original_clean[\"industryvertical\"])\n",
    "dataset_original_clean[\"subvertical\"] = label_encoder.fit_transform(dataset_original_clean[\"subvertical\"])\n",
    "dataset_original_clean[\"citylocation\"] = label_encoder.fit_transform(dataset_original_clean[\"citylocation\"])\n",
    "dataset_original_clean[\"investorsname\"] = label_encoder.fit_transform(dataset_original_clean[\"investorsname\"])\n",
    "dataset_original_clean[\"investmenttype\"] = label_encoder.fit_transform(dataset_original_clean[\"investmenttype\"])\n",
    "dataset_original_clean[\"month\"] = label_encoder.fit_transform(dataset_original_clean[\"month\"])\n",
    "dataset_original_clean[\"year\"] = label_encoder.fit_transform(dataset_original_clean[\"year\"])\n"
   ]
  },
  {
   "cell_type": "code",
   "execution_count": 440,
   "metadata": {},
   "outputs": [],
   "source": [
    "X = dataset_original_clean.drop(\"amountinusd\",1)\n",
    "y = dataset_original_clean[\"amountinusd\"]\n",
    "X_train,X_test,y_train,y_test = tts(X,y,test_size=0.2)"
   ]
  },
  {
   "cell_type": "code",
   "execution_count": 456,
   "metadata": {},
   "outputs": [
    {
     "name": "stdout",
     "output_type": "stream",
     "text": [
      "   industryvertical  count\n",
      "0                95    772\n",
      "1               660    313\n",
      "2               525    177\n",
      "3               709    171\n",
      "4               148     53\n",
      "   industryvertical  amountinusd\n",
      "0                 0    1070000.0\n",
      "1                 1    3000000.0\n",
      "2                 2    1000000.0\n",
      "3                 3    1070000.0\n",
      "4                 4    1000000.0\n"
     ]
    }
   ],
   "source": [
    "x_ind_mean =dataset_original[[\"industryvertical\", \"amountinusd\"]].groupby(\"industryvertical\").mean().reset_index()\n",
    "x_ind_count = dataset_original[\"industryvertical\"].value_counts().reset_index()\n",
    "x_ind_count.columns = [\"industryvertical\", \"count\"]\n",
    "print(x_ind_count.head(5))\n",
    "print(x_ind_mean.head(5))"
   ]
  },
  {
   "cell_type": "code",
   "execution_count": 451,
   "metadata": {},
   "outputs": [
    {
     "data": {
      "text/html": [
       "<div>\n",
       "<style scoped>\n",
       "    .dataframe tbody tr th:only-of-type {\n",
       "        vertical-align: middle;\n",
       "    }\n",
       "\n",
       "    .dataframe tbody tr th {\n",
       "        vertical-align: top;\n",
       "    }\n",
       "\n",
       "    .dataframe thead th {\n",
       "        text-align: right;\n",
       "    }\n",
       "</style>\n",
       "<table border=\"1\" class=\"dataframe\">\n",
       "  <thead>\n",
       "    <tr style=\"text-align: right;\">\n",
       "      <th></th>\n",
       "      <th>industryvertical</th>\n",
       "      <th>subvertical</th>\n",
       "      <th>citylocation</th>\n",
       "      <th>investorsname</th>\n",
       "      <th>investmenttype</th>\n",
       "      <th>month</th>\n",
       "      <th>year</th>\n",
       "    </tr>\n",
       "  </thead>\n",
       "  <tbody>\n",
       "    <tr>\n",
       "      <th>2212</th>\n",
       "      <td>525</td>\n",
       "      <td>726</td>\n",
       "      <td>50</td>\n",
       "      <td>1611</td>\n",
       "      <td>6</td>\n",
       "      <td>5</td>\n",
       "      <td>5</td>\n",
       "    </tr>\n",
       "    <tr>\n",
       "      <th>648</th>\n",
       "      <td>95</td>\n",
       "      <td>457</td>\n",
       "      <td>19</td>\n",
       "      <td>236</td>\n",
       "      <td>4</td>\n",
       "      <td>1</td>\n",
       "      <td>1</td>\n",
       "    </tr>\n",
       "    <tr>\n",
       "      <th>1396</th>\n",
       "      <td>148</td>\n",
       "      <td>67</td>\n",
       "      <td>38</td>\n",
       "      <td>114</td>\n",
       "      <td>4</td>\n",
       "      <td>0</td>\n",
       "      <td>0</td>\n",
       "    </tr>\n",
       "    <tr>\n",
       "      <th>2240</th>\n",
       "      <td>525</td>\n",
       "      <td>726</td>\n",
       "      <td>50</td>\n",
       "      <td>1247</td>\n",
       "      <td>4</td>\n",
       "      <td>5</td>\n",
       "      <td>5</td>\n",
       "    </tr>\n",
       "    <tr>\n",
       "      <th>2367</th>\n",
       "      <td>525</td>\n",
       "      <td>726</td>\n",
       "      <td>50</td>\n",
       "      <td>204</td>\n",
       "      <td>4</td>\n",
       "      <td>0</td>\n",
       "      <td>0</td>\n",
       "    </tr>\n",
       "  </tbody>\n",
       "</table>\n",
       "</div>"
      ],
      "text/plain": [
       "      industryvertical  subvertical  citylocation  investorsname  \\\n",
       "2212               525          726            50           1611   \n",
       "648                 95          457            19            236   \n",
       "1396               148           67            38            114   \n",
       "2240               525          726            50           1247   \n",
       "2367               525          726            50            204   \n",
       "\n",
       "      investmenttype  month  year  \n",
       "2212               6      5     5  \n",
       "648                4      1     1  \n",
       "1396               4      0     0  \n",
       "2240               4      5     5  \n",
       "2367               4      0     0  "
      ]
     },
     "execution_count": 451,
     "metadata": {},
     "output_type": "execute_result"
    }
   ],
   "source": [
    "X_train.head()"
   ]
  },
  {
   "cell_type": "code",
   "execution_count": null,
   "metadata": {},
   "outputs": [],
   "source": []
  },
  {
   "cell_type": "code",
   "execution_count": 460,
   "metadata": {},
   "outputs": [
    {
     "name": "stdout",
     "output_type": "stream",
     "text": [
      "0.0272530051275095\n"
     ]
    }
   ],
   "source": [
    "tree_regressor = DecisionTreeRegressor(max_depth=7,max_leaf_nodes=30)\n",
    "tree_regressor.fit(X_train,y_train)\n",
    "y_pred = tree_regressor.predict(X_test)\n",
    "print(r2_score(y_test,y_pred))"
   ]
  },
  {
   "cell_type": "code",
   "execution_count": 459,
   "metadata": {},
   "outputs": [
    {
     "name": "stdout",
     "output_type": "stream",
     "text": [
      "0.03654422272286795\n"
     ]
    }
   ],
   "source": [
    "rf_regressor = RandomForestRegressor(n_estimators=500)\n",
    "rf_regressor.fit(X_train,y_train)\n",
    "y_pred = rf_regressor.predict(X_test)\n",
    "\n",
    "print(r2_score(y_test,y_pred))"
   ]
  },
  {
   "cell_type": "code",
   "execution_count": 443,
   "metadata": {},
   "outputs": [],
   "source": [
    "dataset_original[\"citylocation\"] = dataset_original[\"citylocation\"].fillna(value=\"NotSpecified\")\n",
    "dataset_original[\"industryvertical\"] = dataset_original[\"industryvertical\"].fillna(value=\"Others\")\n",
    "dataset_original[\"subvertical\"] = dataset_original[\"subvertical\"].fillna(value=\"NotSpecified\")\n",
    "dataset_original[\"investorsname\"] = dataset_original[\"investorsname\"].fillna(value=\"NotSpecified\")\n",
    "dataset_original[\"investmenttype\"] = dataset_original[\"investmenttype\"].fillna(value=\"NotSpecified\")"
   ]
  },
  {
   "cell_type": "code",
   "execution_count": 444,
   "metadata": {},
   "outputs": [],
   "source": [
    "label_encoder = LabelEncoder()\n",
    "dataset_original[\"industryvertical\"] = label_encoder.fit_transform(dataset_original[\"industryvertical\"])\n",
    "dataset_original[\"subvertical\"] = label_encoder.fit_transform(dataset_original[\"subvertical\"])\n",
    "dataset_original[\"citylocation\"] = label_encoder.fit_transform(dataset_original[\"citylocation\"])\n",
    "dataset_original[\"investorsname\"] = label_encoder.fit_transform(dataset_original[\"investorsname\"])\n",
    "dataset_original[\"investmenttype\"] = label_encoder.fit_transform(dataset_original[\"investmenttype\"])\n",
    "dataset_original[\"month\"] = label_encoder.fit_transform(dataset_original[\"month\"])\n",
    "dataset_original[\"year\"] = label_encoder.fit_transform(dataset_original[\"year\"])"
   ]
  },
  {
   "cell_type": "code",
   "execution_count": 445,
   "metadata": {},
   "outputs": [],
   "source": [
    "X = dataset_original.drop(\"amountinusd\",1)\n",
    "y = dataset_original[\"amountinusd\"]\n",
    "X_train,X_test,y_train,y_test = tts(X,y,test_size=0.2)"
   ]
  },
  {
   "cell_type": "code",
   "execution_count": 446,
   "metadata": {},
   "outputs": [
    {
     "name": "stdout",
     "output_type": "stream",
     "text": [
      "0.00725026582507593\n"
     ]
    }
   ],
   "source": [
    "knn_regressor = KNeighborsRegressor()\n",
    "knn_regressor.fit(X_train,y_train)\n",
    "y_pred = knn_regressor.predict(X_test)\n",
    "print(r2_score(y_test,y_pred))"
   ]
  },
  {
   "cell_type": "code",
   "execution_count": 450,
   "metadata": {},
   "outputs": [
    {
     "name": "stdout",
     "output_type": "stream",
     "text": [
      "-0.0002949211615776992\n"
     ]
    }
   ],
   "source": [
    "mean_list = [y_train.mean()]*len(y_test)\n",
    "print(r2_score(y_test.values,mean_list))"
   ]
  },
  {
   "cell_type": "code",
   "execution_count": 449,
   "metadata": {},
   "outputs": [
    {
     "data": {
      "text/plain": [
       "435       1070000.0\n",
       "1874       300000.0\n",
       "624       6000000.0\n",
       "2231      1070000.0\n",
       "1584      1070000.0\n",
       "549       1000000.0\n",
       "1834      1000000.0\n",
       "1284      1070000.0\n",
       "1246      1070000.0\n",
       "1297      1070000.0\n",
       "928         30000.0\n",
       "2180      1800000.0\n",
       "2007      3000000.0\n",
       "91        4500000.0\n",
       "400       2000000.0\n",
       "344        400000.0\n",
       "687        150000.0\n",
       "440       1070000.0\n",
       "2151       165000.0\n",
       "2235      3000000.0\n",
       "1447     20000000.0\n",
       "1022      1070000.0\n",
       "278        120000.0\n",
       "1551      1900000.0\n",
       "2045      1070000.0\n",
       "1997      4000000.0\n",
       "816       1070000.0\n",
       "1291      1070000.0\n",
       "547       1070000.0\n",
       "749        225000.0\n",
       "           ...     \n",
       "645       1070000.0\n",
       "587       1070000.0\n",
       "44       15000000.0\n",
       "362         40000.0\n",
       "215       1070000.0\n",
       "2341    100000000.0\n",
       "2068      6000000.0\n",
       "1049      1070000.0\n",
       "1704       130000.0\n",
       "106       1070000.0\n",
       "2280      3000000.0\n",
       "2101      2000000.0\n",
       "640      30000000.0\n",
       "546       1070000.0\n",
       "1692        77000.0\n",
       "1896      1070000.0\n",
       "1096       250000.0\n",
       "1927     10000000.0\n",
       "468        200000.0\n",
       "200       1070000.0\n",
       "1984      2400000.0\n",
       "1188      1070000.0\n",
       "1664      1070000.0\n",
       "1543      2000000.0\n",
       "904        100000.0\n",
       "1081      1000000.0\n",
       "460       1070000.0\n",
       "456       1070000.0\n",
       "33         600000.0\n",
       "377       1070000.0\n",
       "Name: amountinusd, Length: 475, dtype: float64"
      ]
     },
     "execution_count": 449,
     "metadata": {},
     "output_type": "execute_result"
    }
   ],
   "source": [
    "y_test"
   ]
  },
  {
   "cell_type": "code",
   "execution_count": null,
   "metadata": {},
   "outputs": [],
   "source": []
  },
  {
   "cell_type": "code",
   "execution_count": null,
   "metadata": {},
   "outputs": [],
   "source": []
  },
  {
   "cell_type": "code",
   "execution_count": null,
   "metadata": {},
   "outputs": [],
   "source": []
  }
 ],
 "metadata": {
  "kernelspec": {
   "display_name": "Python 3",
   "language": "python",
   "name": "python3"
  },
  "language_info": {
   "codemirror_mode": {
    "name": "ipython",
    "version": 3
   },
   "file_extension": ".py",
   "mimetype": "text/x-python",
   "name": "python",
   "nbconvert_exporter": "python",
   "pygments_lexer": "ipython3",
   "version": "3.6.5"
  }
 },
 "nbformat": 4,
 "nbformat_minor": 2
}
